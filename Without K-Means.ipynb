{
 "cells": [
  {
   "cell_type": "code",
   "execution_count": 0,
   "metadata": {
    "colab": {},
    "colab_type": "code",
    "id": "dfBVeNHqOMt5"
   },
   "outputs": [],
   "source": [
    "import pandas as pd\n",
    "import numpy as np\n",
    "from matplotlib import pyplot as plt\n",
    "import seaborn as sns"
   ]
  },
  {
   "cell_type": "code",
   "execution_count": 0,
   "metadata": {
    "colab": {},
    "colab_type": "code",
    "id": "7j5srTIWOhqJ"
   },
   "outputs": [],
   "source": [
    "# Load data set\n",
    "raw = pd.read_csv(\"/content/drive/My Drive/Veri Bilimi Final/mushrooms.csv\")\n",
    "\n",
    "# Extract label's from dataset\n",
    "label = raw['class']\n",
    "data = raw.drop('class', axis = 1)"
   ]
  },
  {
   "cell_type": "code",
   "execution_count": 13,
   "metadata": {
    "colab": {
     "base_uri": "https://localhost:8080/",
     "height": 246
    },
    "colab_type": "code",
    "executionInfo": {
     "elapsed": 1980,
     "status": "ok",
     "timestamp": 1591225015222,
     "user": {
      "displayName": "Muhammet Furkan ÇANKAYA",
      "photoUrl": "https://lh3.googleusercontent.com/a-/AOh14GgKRfq4hsmkDYjw8lp5rHaifPZZVVa-0jLO3ZUl=s64",
      "userId": "16904689688251083638"
     },
     "user_tz": -180
    },
    "id": "a_kAI9axPUgX",
    "outputId": "4d27193d-c5f1-400d-f3e1-30fe55bd75d5"
   },
   "outputs": [
    {
     "data": {
      "text/html": [
       "<div>\n",
       "<style scoped>\n",
       "    .dataframe tbody tr th:only-of-type {\n",
       "        vertical-align: middle;\n",
       "    }\n",
       "\n",
       "    .dataframe tbody tr th {\n",
       "        vertical-align: top;\n",
       "    }\n",
       "\n",
       "    .dataframe thead th {\n",
       "        text-align: right;\n",
       "    }\n",
       "</style>\n",
       "<table border=\"1\" class=\"dataframe\">\n",
       "  <thead>\n",
       "    <tr style=\"text-align: right;\">\n",
       "      <th></th>\n",
       "      <th>cap-shape</th>\n",
       "      <th>cap-surface</th>\n",
       "      <th>cap-color</th>\n",
       "      <th>bruises</th>\n",
       "      <th>odor</th>\n",
       "      <th>gill-attachment</th>\n",
       "      <th>gill-spacing</th>\n",
       "      <th>gill-size</th>\n",
       "      <th>gill-color</th>\n",
       "      <th>stalk-shape</th>\n",
       "      <th>stalk-root</th>\n",
       "      <th>stalk-surface-above-ring</th>\n",
       "      <th>stalk-surface-below-ring</th>\n",
       "      <th>stalk-color-above-ring</th>\n",
       "      <th>stalk-color-below-ring</th>\n",
       "      <th>veil-type</th>\n",
       "      <th>veil-color</th>\n",
       "      <th>ring-number</th>\n",
       "      <th>ring-type</th>\n",
       "      <th>spore-print-color</th>\n",
       "      <th>population</th>\n",
       "      <th>habitat</th>\n",
       "    </tr>\n",
       "  </thead>\n",
       "  <tbody>\n",
       "    <tr>\n",
       "      <th>0</th>\n",
       "      <td>x</td>\n",
       "      <td>s</td>\n",
       "      <td>n</td>\n",
       "      <td>t</td>\n",
       "      <td>p</td>\n",
       "      <td>f</td>\n",
       "      <td>c</td>\n",
       "      <td>n</td>\n",
       "      <td>k</td>\n",
       "      <td>e</td>\n",
       "      <td>e</td>\n",
       "      <td>s</td>\n",
       "      <td>s</td>\n",
       "      <td>w</td>\n",
       "      <td>w</td>\n",
       "      <td>p</td>\n",
       "      <td>w</td>\n",
       "      <td>o</td>\n",
       "      <td>p</td>\n",
       "      <td>k</td>\n",
       "      <td>s</td>\n",
       "      <td>u</td>\n",
       "    </tr>\n",
       "    <tr>\n",
       "      <th>1</th>\n",
       "      <td>x</td>\n",
       "      <td>s</td>\n",
       "      <td>y</td>\n",
       "      <td>t</td>\n",
       "      <td>a</td>\n",
       "      <td>f</td>\n",
       "      <td>c</td>\n",
       "      <td>b</td>\n",
       "      <td>k</td>\n",
       "      <td>e</td>\n",
       "      <td>c</td>\n",
       "      <td>s</td>\n",
       "      <td>s</td>\n",
       "      <td>w</td>\n",
       "      <td>w</td>\n",
       "      <td>p</td>\n",
       "      <td>w</td>\n",
       "      <td>o</td>\n",
       "      <td>p</td>\n",
       "      <td>n</td>\n",
       "      <td>n</td>\n",
       "      <td>g</td>\n",
       "    </tr>\n",
       "    <tr>\n",
       "      <th>2</th>\n",
       "      <td>b</td>\n",
       "      <td>s</td>\n",
       "      <td>w</td>\n",
       "      <td>t</td>\n",
       "      <td>l</td>\n",
       "      <td>f</td>\n",
       "      <td>c</td>\n",
       "      <td>b</td>\n",
       "      <td>n</td>\n",
       "      <td>e</td>\n",
       "      <td>c</td>\n",
       "      <td>s</td>\n",
       "      <td>s</td>\n",
       "      <td>w</td>\n",
       "      <td>w</td>\n",
       "      <td>p</td>\n",
       "      <td>w</td>\n",
       "      <td>o</td>\n",
       "      <td>p</td>\n",
       "      <td>n</td>\n",
       "      <td>n</td>\n",
       "      <td>m</td>\n",
       "    </tr>\n",
       "    <tr>\n",
       "      <th>3</th>\n",
       "      <td>x</td>\n",
       "      <td>y</td>\n",
       "      <td>w</td>\n",
       "      <td>t</td>\n",
       "      <td>p</td>\n",
       "      <td>f</td>\n",
       "      <td>c</td>\n",
       "      <td>n</td>\n",
       "      <td>n</td>\n",
       "      <td>e</td>\n",
       "      <td>e</td>\n",
       "      <td>s</td>\n",
       "      <td>s</td>\n",
       "      <td>w</td>\n",
       "      <td>w</td>\n",
       "      <td>p</td>\n",
       "      <td>w</td>\n",
       "      <td>o</td>\n",
       "      <td>p</td>\n",
       "      <td>k</td>\n",
       "      <td>s</td>\n",
       "      <td>u</td>\n",
       "    </tr>\n",
       "    <tr>\n",
       "      <th>4</th>\n",
       "      <td>x</td>\n",
       "      <td>s</td>\n",
       "      <td>g</td>\n",
       "      <td>f</td>\n",
       "      <td>n</td>\n",
       "      <td>f</td>\n",
       "      <td>w</td>\n",
       "      <td>b</td>\n",
       "      <td>k</td>\n",
       "      <td>t</td>\n",
       "      <td>e</td>\n",
       "      <td>s</td>\n",
       "      <td>s</td>\n",
       "      <td>w</td>\n",
       "      <td>w</td>\n",
       "      <td>p</td>\n",
       "      <td>w</td>\n",
       "      <td>o</td>\n",
       "      <td>e</td>\n",
       "      <td>n</td>\n",
       "      <td>a</td>\n",
       "      <td>g</td>\n",
       "    </tr>\n",
       "  </tbody>\n",
       "</table>\n",
       "</div>"
      ],
      "text/plain": [
       "  cap-shape cap-surface cap-color  ... spore-print-color population habitat\n",
       "0         x           s         n  ...                 k          s       u\n",
       "1         x           s         y  ...                 n          n       g\n",
       "2         b           s         w  ...                 n          n       m\n",
       "3         x           y         w  ...                 k          s       u\n",
       "4         x           s         g  ...                 n          a       g\n",
       "\n",
       "[5 rows x 22 columns]"
      ]
     },
     "execution_count": 13,
     "metadata": {
      "tags": []
     },
     "output_type": "execute_result"
    }
   ],
   "source": [
    "data.head()"
   ]
  },
  {
   "cell_type": "markdown",
   "metadata": {
    "colab_type": "text",
    "id": "4ZbHcJY2QQ4q"
   },
   "source": [
    "# DATANIN TANIMI"
   ]
  },
  {
   "cell_type": "code",
   "execution_count": 14,
   "metadata": {
    "colab": {
     "base_uri": "https://localhost:8080/",
     "height": 151
    },
    "colab_type": "code",
    "executionInfo": {
     "elapsed": 1967,
     "status": "ok",
     "timestamp": 1591225015222,
     "user": {
      "displayName": "Muhammet Furkan ÇANKAYA",
      "photoUrl": "https://lh3.googleusercontent.com/a-/AOh14GgKRfq4hsmkDYjw8lp5rHaifPZZVVa-0jLO3ZUl=s64",
      "userId": "16904689688251083638"
     },
     "user_tz": -180
    },
    "id": "oVHklBbNPXJJ",
    "outputId": "26ba8ee1-37fb-475f-f8eb-ea92d6bf0f5c"
   },
   "outputs": [
    {
     "name": "stdout",
     "output_type": "stream",
     "text": [
      "# of columns: 22\n",
      "Index(['cap-shape', 'cap-surface', 'cap-color', 'bruises', 'odor',\n",
      "       'gill-attachment', 'gill-spacing', 'gill-size', 'gill-color',\n",
      "       'stalk-shape', 'stalk-root', 'stalk-surface-above-ring',\n",
      "       'stalk-surface-below-ring', 'stalk-color-above-ring',\n",
      "       'stalk-color-below-ring', 'veil-type', 'veil-color', 'ring-number',\n",
      "       'ring-type', 'spore-print-color', 'population', 'habitat'],\n",
      "      dtype='object')\n"
     ]
    }
   ],
   "source": [
    "# COLUMNS\n",
    "print(\"# of columns: %d\" % len(data.columns))\n",
    "print(data.columns)"
   ]
  },
  {
   "cell_type": "code",
   "execution_count": 15,
   "metadata": {
    "colab": {
     "base_uri": "https://localhost:8080/",
     "height": 34
    },
    "colab_type": "code",
    "executionInfo": {
     "elapsed": 1951,
     "status": "ok",
     "timestamp": 1591225015223,
     "user": {
      "displayName": "Muhammet Furkan ÇANKAYA",
      "photoUrl": "https://lh3.googleusercontent.com/a-/AOh14GgKRfq4hsmkDYjw8lp5rHaifPZZVVa-0jLO3ZUl=s64",
      "userId": "16904689688251083638"
     },
     "user_tz": -180
    },
    "id": "NTrogwn_Qh10",
    "outputId": "f12baac6-ba15-48f4-ac37-347814955c6f"
   },
   "outputs": [
    {
     "data": {
      "text/plain": [
       "(8124, 22)"
      ]
     },
     "execution_count": 15,
     "metadata": {
      "tags": []
     },
     "output_type": "execute_result"
    }
   ],
   "source": [
    "# SAMPLE SIZE\n",
    "data.shape"
   ]
  },
  {
   "cell_type": "code",
   "execution_count": 16,
   "metadata": {
    "colab": {
     "base_uri": "https://localhost:8080/",
     "height": 504
    },
    "colab_type": "code",
    "executionInfo": {
     "elapsed": 1933,
     "status": "ok",
     "timestamp": 1591225015224,
     "user": {
      "displayName": "Muhammet Furkan ÇANKAYA",
      "photoUrl": "https://lh3.googleusercontent.com/a-/AOh14GgKRfq4hsmkDYjw8lp5rHaifPZZVVa-0jLO3ZUl=s64",
      "userId": "16904689688251083638"
     },
     "user_tz": -180
    },
    "id": "QOlSAnnBQoTs",
    "outputId": "7ee8274e-8810-4951-eae4-160e0fe99fd4"
   },
   "outputs": [
    {
     "name": "stdout",
     "output_type": "stream",
     "text": [
      "<class 'pandas.core.frame.DataFrame'>\n",
      "RangeIndex: 8124 entries, 0 to 8123\n",
      "Data columns (total 22 columns):\n",
      " #   Column                    Non-Null Count  Dtype \n",
      "---  ------                    --------------  ----- \n",
      " 0   cap-shape                 8124 non-null   object\n",
      " 1   cap-surface               8124 non-null   object\n",
      " 2   cap-color                 8124 non-null   object\n",
      " 3   bruises                   8124 non-null   object\n",
      " 4   odor                      8124 non-null   object\n",
      " 5   gill-attachment           8124 non-null   object\n",
      " 6   gill-spacing              8124 non-null   object\n",
      " 7   gill-size                 8124 non-null   object\n",
      " 8   gill-color                8124 non-null   object\n",
      " 9   stalk-shape               8124 non-null   object\n",
      " 10  stalk-root                8124 non-null   object\n",
      " 11  stalk-surface-above-ring  8124 non-null   object\n",
      " 12  stalk-surface-below-ring  8124 non-null   object\n",
      " 13  stalk-color-above-ring    8124 non-null   object\n",
      " 14  stalk-color-below-ring    8124 non-null   object\n",
      " 15  veil-type                 8124 non-null   object\n",
      " 16  veil-color                8124 non-null   object\n",
      " 17  ring-number               8124 non-null   object\n",
      " 18  ring-type                 8124 non-null   object\n",
      " 19  spore-print-color         8124 non-null   object\n",
      " 20  population                8124 non-null   object\n",
      " 21  habitat                   8124 non-null   object\n",
      "dtypes: object(22)\n",
      "memory usage: 1.4+ MB\n"
     ]
    }
   ],
   "source": [
    "# Data Types\n",
    "data.info()"
   ]
  },
  {
   "cell_type": "code",
   "execution_count": 17,
   "metadata": {
    "colab": {
     "base_uri": "https://localhost:8080/",
     "height": 236
    },
    "colab_type": "code",
    "executionInfo": {
     "elapsed": 1917,
     "status": "ok",
     "timestamp": 1591225015224,
     "user": {
      "displayName": "Muhammet Furkan ÇANKAYA",
      "photoUrl": "https://lh3.googleusercontent.com/a-/AOh14GgKRfq4hsmkDYjw8lp5rHaifPZZVVa-0jLO3ZUl=s64",
      "userId": "16904689688251083638"
     },
     "user_tz": -180
    },
    "id": "eFAOJZH4SGqx",
    "outputId": "8930e5ce-da56-4b4c-8052-f533cf3d7ef5"
   },
   "outputs": [
    {
     "data": {
      "text/html": [
       "<div>\n",
       "<style scoped>\n",
       "    .dataframe tbody tr th:only-of-type {\n",
       "        vertical-align: middle;\n",
       "    }\n",
       "\n",
       "    .dataframe tbody tr th {\n",
       "        vertical-align: top;\n",
       "    }\n",
       "\n",
       "    .dataframe thead th {\n",
       "        text-align: right;\n",
       "    }\n",
       "</style>\n",
       "<table border=\"1\" class=\"dataframe\">\n",
       "  <thead>\n",
       "    <tr style=\"text-align: right;\">\n",
       "      <th></th>\n",
       "      <th>cap-shape</th>\n",
       "      <th>cap-surface</th>\n",
       "      <th>cap-color</th>\n",
       "      <th>bruises</th>\n",
       "      <th>odor</th>\n",
       "      <th>gill-attachment</th>\n",
       "      <th>gill-spacing</th>\n",
       "      <th>gill-size</th>\n",
       "      <th>gill-color</th>\n",
       "      <th>stalk-shape</th>\n",
       "      <th>stalk-root</th>\n",
       "      <th>stalk-surface-above-ring</th>\n",
       "      <th>stalk-surface-below-ring</th>\n",
       "      <th>stalk-color-above-ring</th>\n",
       "      <th>stalk-color-below-ring</th>\n",
       "      <th>veil-type</th>\n",
       "      <th>veil-color</th>\n",
       "      <th>ring-number</th>\n",
       "      <th>ring-type</th>\n",
       "      <th>spore-print-color</th>\n",
       "      <th>population</th>\n",
       "      <th>habitat</th>\n",
       "    </tr>\n",
       "  </thead>\n",
       "  <tbody>\n",
       "    <tr>\n",
       "      <th>count</th>\n",
       "      <td>8124</td>\n",
       "      <td>8124</td>\n",
       "      <td>8124</td>\n",
       "      <td>8124</td>\n",
       "      <td>8124</td>\n",
       "      <td>8124</td>\n",
       "      <td>8124</td>\n",
       "      <td>8124</td>\n",
       "      <td>8124</td>\n",
       "      <td>8124</td>\n",
       "      <td>8124</td>\n",
       "      <td>8124</td>\n",
       "      <td>8124</td>\n",
       "      <td>8124</td>\n",
       "      <td>8124</td>\n",
       "      <td>8124</td>\n",
       "      <td>8124</td>\n",
       "      <td>8124</td>\n",
       "      <td>8124</td>\n",
       "      <td>8124</td>\n",
       "      <td>8124</td>\n",
       "      <td>8124</td>\n",
       "    </tr>\n",
       "    <tr>\n",
       "      <th>unique</th>\n",
       "      <td>6</td>\n",
       "      <td>4</td>\n",
       "      <td>10</td>\n",
       "      <td>2</td>\n",
       "      <td>9</td>\n",
       "      <td>2</td>\n",
       "      <td>2</td>\n",
       "      <td>2</td>\n",
       "      <td>12</td>\n",
       "      <td>2</td>\n",
       "      <td>5</td>\n",
       "      <td>4</td>\n",
       "      <td>4</td>\n",
       "      <td>9</td>\n",
       "      <td>9</td>\n",
       "      <td>1</td>\n",
       "      <td>4</td>\n",
       "      <td>3</td>\n",
       "      <td>5</td>\n",
       "      <td>9</td>\n",
       "      <td>6</td>\n",
       "      <td>7</td>\n",
       "    </tr>\n",
       "    <tr>\n",
       "      <th>top</th>\n",
       "      <td>x</td>\n",
       "      <td>y</td>\n",
       "      <td>n</td>\n",
       "      <td>f</td>\n",
       "      <td>n</td>\n",
       "      <td>f</td>\n",
       "      <td>c</td>\n",
       "      <td>b</td>\n",
       "      <td>b</td>\n",
       "      <td>t</td>\n",
       "      <td>b</td>\n",
       "      <td>s</td>\n",
       "      <td>s</td>\n",
       "      <td>w</td>\n",
       "      <td>w</td>\n",
       "      <td>p</td>\n",
       "      <td>w</td>\n",
       "      <td>o</td>\n",
       "      <td>p</td>\n",
       "      <td>w</td>\n",
       "      <td>v</td>\n",
       "      <td>d</td>\n",
       "    </tr>\n",
       "    <tr>\n",
       "      <th>freq</th>\n",
       "      <td>3656</td>\n",
       "      <td>3244</td>\n",
       "      <td>2284</td>\n",
       "      <td>4748</td>\n",
       "      <td>3528</td>\n",
       "      <td>7914</td>\n",
       "      <td>6812</td>\n",
       "      <td>5612</td>\n",
       "      <td>1728</td>\n",
       "      <td>4608</td>\n",
       "      <td>3776</td>\n",
       "      <td>5176</td>\n",
       "      <td>4936</td>\n",
       "      <td>4464</td>\n",
       "      <td>4384</td>\n",
       "      <td>8124</td>\n",
       "      <td>7924</td>\n",
       "      <td>7488</td>\n",
       "      <td>3968</td>\n",
       "      <td>2388</td>\n",
       "      <td>4040</td>\n",
       "      <td>3148</td>\n",
       "    </tr>\n",
       "  </tbody>\n",
       "</table>\n",
       "</div>"
      ],
      "text/plain": [
       "       cap-shape cap-surface cap-color  ... spore-print-color population habitat\n",
       "count       8124        8124      8124  ...              8124       8124    8124\n",
       "unique         6           4        10  ...                 9          6       7\n",
       "top            x           y         n  ...                 w          v       d\n",
       "freq        3656        3244      2284  ...              2388       4040    3148\n",
       "\n",
       "[4 rows x 22 columns]"
      ]
     },
     "execution_count": 17,
     "metadata": {
      "tags": []
     },
     "output_type": "execute_result"
    }
   ],
   "source": [
    "data.describe()"
   ]
  },
  {
   "cell_type": "code",
   "execution_count": 0,
   "metadata": {
    "colab": {},
    "colab_type": "code",
    "id": "6uFyDW90SYmm"
   },
   "outputs": [],
   "source": [
    "for col in data.columns:\n",
    "    data[col] = data[col].astype('category', copy=False)"
   ]
  },
  {
   "cell_type": "markdown",
   "metadata": {
    "colab_type": "text",
    "id": "zXha1gkvSkX_"
   },
   "source": [
    "**Histogram Of Features**"
   ]
  },
  {
   "cell_type": "code",
   "execution_count": 19,
   "metadata": {
    "colab": {
     "base_uri": "https://localhost:8080/",
     "height": 1000
    },
    "colab_type": "code",
    "executionInfo": {
     "elapsed": 6307,
     "status": "ok",
     "timestamp": 1591225019634,
     "user": {
      "displayName": "Muhammet Furkan ÇANKAYA",
      "photoUrl": "https://lh3.googleusercontent.com/a-/AOh14GgKRfq4hsmkDYjw8lp5rHaifPZZVVa-0jLO3ZUl=s64",
      "userId": "16904689688251083638"
     },
     "user_tz": -180
    },
    "id": "yiCkmEcbSiMA",
    "outputId": "8a0a109a-3b5a-46d4-f2f8-98b2fc67242a"
   },
   "outputs": [
    {
     "data": {
      "image/png": "[encoded data removed]",
      "text/plain": [
       "<Figure size 432x288 with 24 Axes>"
      ]
     },
     "metadata": {
      "needs_background": "light",
      "tags": []
     },
     "output_type": "display_data"
    }
   ],
   "source": [
    "fig, axs = plt.subplots(nrows=6, ncols=4)\n",
    "\n",
    "r = 0\n",
    "c = 0\n",
    "for col in data.columns:\n",
    "    data[col].value_counts().plot(kind='bar',ax=axs[r][c], title=col)\n",
    "    c = c + 1\n",
    "    if c == 4:\n",
    "        r = r + 1\n",
    "        c = 0\n",
    "\n",
    "plt.subplots_adjust(left=0.1, right=2.2, top=5, bottom=0)"
   ]
  },
  {
   "cell_type": "markdown",
   "metadata": {
    "colab_type": "text",
    "id": "9mCpjRRGTBmD"
   },
   "source": [
    "**Missing values**\n"
   ]
  },
  {
   "cell_type": "markdown",
   "metadata": {
    "colab_type": "text",
    "id": "GbGDmHqsTOnZ"
   },
   "source": [
    "Dataset içerisinde Null değer bulunmamaktadır ama boş değerler yerine \"?\" işareti bulunmaktadır. Datasetin üreticileri tarafından belirtilmiştir. bu nedenle null değer yerine \"?\" değer aranacaktır"
   ]
  },
  {
   "cell_type": "code",
   "execution_count": 20,
   "metadata": {
    "colab": {
     "base_uri": "https://localhost:8080/",
     "height": 329
    },
    "colab_type": "code",
    "executionInfo": {
     "elapsed": 6300,
     "status": "ok",
     "timestamp": 1591225019635,
     "user": {
      "displayName": "Muhammet Furkan ÇANKAYA",
      "photoUrl": "https://lh3.googleusercontent.com/a-/AOh14GgKRfq4hsmkDYjw8lp5rHaifPZZVVa-0jLO3ZUl=s64",
      "userId": "16904689688251083638"
     },
     "user_tz": -180
    },
    "id": "VDU5RF4gSz9B",
    "outputId": "7df36624-4998-454a-8be3-fdf9f2b45f23"
   },
   "outputs": [
    {
     "name": "stdout",
     "output_type": "stream",
     "text": [
      "Exist: 5644\n",
      "Non Exist : 2480\n"
     ]
    },
    {
     "data": {
      "image/png": "[encoded data removed]",
      "text/plain": [
       "<Figure size 432x288 with 1 Axes>"
      ]
     },
     "metadata": {
      "needs_background": "light",
      "tags": []
     },
     "output_type": "display_data"
    }
   ],
   "source": [
    "missing_features = []\n",
    "def checkExistance():\n",
    "    for col in data.columns:\n",
    "        data_non_exist = data[data[col] == '?']\n",
    "\n",
    "        if len(data_non_exist):\n",
    "            missing_features.append(col)\n",
    "            \n",
    "    del data_non_exist\n",
    "            \n",
    "def plotMissingFeatures():\n",
    "    for col in missing_features:      \n",
    "        data_exist = data[data[col] != '?']\n",
    "        data_non_exist = data[data[col] == '?']\n",
    "\n",
    "        print(\"Exist:\",len(data_exist))\n",
    "        print(\"Non Exist :\",len(data_non_exist))\n",
    "        y = np.array([len(data_exist),len(data_non_exist)])\n",
    "        x = [\"Exist\",\"Non Exist\"]\n",
    "        plt.bar(x,y)\n",
    "        plt.title(col)\n",
    "        plt.xlabel(\"Existance\")\n",
    "        plt.ylabel(\"Frequency\")\n",
    "        plt.show()\n",
    "\n",
    "    del data_exist\n",
    "    del data_non_exist\n",
    "    \n",
    "checkExistance()\n",
    "plotMissingFeatures()"
   ]
  },
  {
   "cell_type": "markdown",
   "metadata": {
    "colab_type": "text",
    "id": "UYEtxPkGT8Zx"
   },
   "source": [
    "\"stalk-root\" Kolonunda bulunmaktadır \"?\" değer sadece. daha az sayıda olsaydı eğer elenebilirdi satırlar. Ancak toplam datanın yaklaşık %28'ini oluşturduğu için kolonu kaldırmayı planladım. Ayrıca \"veil-type\" kolonu sadece bir uniq değer (p) aldığı için hiçbir katkısı olmamasından ötürü onu da çıkarmam gerektiğine karar verdim."
   ]
  },
  {
   "cell_type": "code",
   "execution_count": 0,
   "metadata": {
    "colab": {},
    "colab_type": "code",
    "id": "65WigUn-d0vs"
   },
   "outputs": [],
   "source": [
    "data = data.drop('stalk-root', axis = 1)\n",
    "data = data.drop('veil-type', axis = 1)"
   ]
  },
  {
   "cell_type": "code",
   "execution_count": 26,
   "metadata": {
    "colab": {
     "base_uri": "https://localhost:8080/",
     "height": 452
    },
    "colab_type": "code",
    "executionInfo": {
     "elapsed": 860,
     "status": "ok",
     "timestamp": 1591226535036,
     "user": {
      "displayName": "Muhammet Furkan ÇANKAYA",
      "photoUrl": "https://lh3.googleusercontent.com/a-/AOh14GgKRfq4hsmkDYjw8lp5rHaifPZZVVa-0jLO3ZUl=s64",
      "userId": "16904689688251083638"
     },
     "user_tz": -180
    },
    "id": "v_Q5uNnyfPL1",
    "outputId": "f5d406c9-71e3-42c0-f7c9-94e0ffc3cedf"
   },
   "outputs": [
    {
     "data": {
      "text/html": [
       "<div>\n",
       "<style scoped>\n",
       "    .dataframe tbody tr th:only-of-type {\n",
       "        vertical-align: middle;\n",
       "    }\n",
       "\n",
       "    .dataframe tbody tr th {\n",
       "        vertical-align: top;\n",
       "    }\n",
       "\n",
       "    .dataframe thead th {\n",
       "        text-align: right;\n",
       "    }\n",
       "</style>\n",
       "<table border=\"1\" class=\"dataframe\">\n",
       "  <thead>\n",
       "    <tr style=\"text-align: right;\">\n",
       "      <th></th>\n",
       "      <th>cap-shape</th>\n",
       "      <th>cap-surface</th>\n",
       "      <th>cap-color</th>\n",
       "      <th>bruises</th>\n",
       "      <th>odor</th>\n",
       "      <th>gill-attachment</th>\n",
       "      <th>gill-spacing</th>\n",
       "      <th>gill-size</th>\n",
       "      <th>gill-color</th>\n",
       "      <th>stalk-shape</th>\n",
       "      <th>stalk-surface-above-ring</th>\n",
       "      <th>stalk-surface-below-ring</th>\n",
       "      <th>stalk-color-above-ring</th>\n",
       "      <th>stalk-color-below-ring</th>\n",
       "      <th>veil-color</th>\n",
       "      <th>ring-number</th>\n",
       "      <th>ring-type</th>\n",
       "      <th>spore-print-color</th>\n",
       "      <th>population</th>\n",
       "      <th>habitat</th>\n",
       "    </tr>\n",
       "  </thead>\n",
       "  <tbody>\n",
       "    <tr>\n",
       "      <th>0</th>\n",
       "      <td>x</td>\n",
       "      <td>s</td>\n",
       "      <td>n</td>\n",
       "      <td>t</td>\n",
       "      <td>p</td>\n",
       "      <td>f</td>\n",
       "      <td>c</td>\n",
       "      <td>n</td>\n",
       "      <td>k</td>\n",
       "      <td>e</td>\n",
       "      <td>s</td>\n",
       "      <td>s</td>\n",
       "      <td>w</td>\n",
       "      <td>w</td>\n",
       "      <td>w</td>\n",
       "      <td>o</td>\n",
       "      <td>p</td>\n",
       "      <td>k</td>\n",
       "      <td>s</td>\n",
       "      <td>u</td>\n",
       "    </tr>\n",
       "    <tr>\n",
       "      <th>1</th>\n",
       "      <td>x</td>\n",
       "      <td>s</td>\n",
       "      <td>y</td>\n",
       "      <td>t</td>\n",
       "      <td>a</td>\n",
       "      <td>f</td>\n",
       "      <td>c</td>\n",
       "      <td>b</td>\n",
       "      <td>k</td>\n",
       "      <td>e</td>\n",
       "      <td>s</td>\n",
       "      <td>s</td>\n",
       "      <td>w</td>\n",
       "      <td>w</td>\n",
       "      <td>w</td>\n",
       "      <td>o</td>\n",
       "      <td>p</td>\n",
       "      <td>n</td>\n",
       "      <td>n</td>\n",
       "      <td>g</td>\n",
       "    </tr>\n",
       "    <tr>\n",
       "      <th>2</th>\n",
       "      <td>b</td>\n",
       "      <td>s</td>\n",
       "      <td>w</td>\n",
       "      <td>t</td>\n",
       "      <td>l</td>\n",
       "      <td>f</td>\n",
       "      <td>c</td>\n",
       "      <td>b</td>\n",
       "      <td>n</td>\n",
       "      <td>e</td>\n",
       "      <td>s</td>\n",
       "      <td>s</td>\n",
       "      <td>w</td>\n",
       "      <td>w</td>\n",
       "      <td>w</td>\n",
       "      <td>o</td>\n",
       "      <td>p</td>\n",
       "      <td>n</td>\n",
       "      <td>n</td>\n",
       "      <td>m</td>\n",
       "    </tr>\n",
       "    <tr>\n",
       "      <th>3</th>\n",
       "      <td>x</td>\n",
       "      <td>y</td>\n",
       "      <td>w</td>\n",
       "      <td>t</td>\n",
       "      <td>p</td>\n",
       "      <td>f</td>\n",
       "      <td>c</td>\n",
       "      <td>n</td>\n",
       "      <td>n</td>\n",
       "      <td>e</td>\n",
       "      <td>s</td>\n",
       "      <td>s</td>\n",
       "      <td>w</td>\n",
       "      <td>w</td>\n",
       "      <td>w</td>\n",
       "      <td>o</td>\n",
       "      <td>p</td>\n",
       "      <td>k</td>\n",
       "      <td>s</td>\n",
       "      <td>u</td>\n",
       "    </tr>\n",
       "    <tr>\n",
       "      <th>4</th>\n",
       "      <td>x</td>\n",
       "      <td>s</td>\n",
       "      <td>g</td>\n",
       "      <td>f</td>\n",
       "      <td>n</td>\n",
       "      <td>f</td>\n",
       "      <td>w</td>\n",
       "      <td>b</td>\n",
       "      <td>k</td>\n",
       "      <td>t</td>\n",
       "      <td>s</td>\n",
       "      <td>s</td>\n",
       "      <td>w</td>\n",
       "      <td>w</td>\n",
       "      <td>w</td>\n",
       "      <td>o</td>\n",
       "      <td>e</td>\n",
       "      <td>n</td>\n",
       "      <td>a</td>\n",
       "      <td>g</td>\n",
       "    </tr>\n",
       "    <tr>\n",
       "      <th>...</th>\n",
       "      <td>...</td>\n",
       "      <td>...</td>\n",
       "      <td>...</td>\n",
       "      <td>...</td>\n",
       "      <td>...</td>\n",
       "      <td>...</td>\n",
       "      <td>...</td>\n",
       "      <td>...</td>\n",
       "      <td>...</td>\n",
       "      <td>...</td>\n",
       "      <td>...</td>\n",
       "      <td>...</td>\n",
       "      <td>...</td>\n",
       "      <td>...</td>\n",
       "      <td>...</td>\n",
       "      <td>...</td>\n",
       "      <td>...</td>\n",
       "      <td>...</td>\n",
       "      <td>...</td>\n",
       "      <td>...</td>\n",
       "    </tr>\n",
       "    <tr>\n",
       "      <th>8119</th>\n",
       "      <td>k</td>\n",
       "      <td>s</td>\n",
       "      <td>n</td>\n",
       "      <td>f</td>\n",
       "      <td>n</td>\n",
       "      <td>a</td>\n",
       "      <td>c</td>\n",
       "      <td>b</td>\n",
       "      <td>y</td>\n",
       "      <td>e</td>\n",
       "      <td>s</td>\n",
       "      <td>s</td>\n",
       "      <td>o</td>\n",
       "      <td>o</td>\n",
       "      <td>o</td>\n",
       "      <td>o</td>\n",
       "      <td>p</td>\n",
       "      <td>b</td>\n",
       "      <td>c</td>\n",
       "      <td>l</td>\n",
       "    </tr>\n",
       "    <tr>\n",
       "      <th>8120</th>\n",
       "      <td>x</td>\n",
       "      <td>s</td>\n",
       "      <td>n</td>\n",
       "      <td>f</td>\n",
       "      <td>n</td>\n",
       "      <td>a</td>\n",
       "      <td>c</td>\n",
       "      <td>b</td>\n",
       "      <td>y</td>\n",
       "      <td>e</td>\n",
       "      <td>s</td>\n",
       "      <td>s</td>\n",
       "      <td>o</td>\n",
       "      <td>o</td>\n",
       "      <td>n</td>\n",
       "      <td>o</td>\n",
       "      <td>p</td>\n",
       "      <td>b</td>\n",
       "      <td>v</td>\n",
       "      <td>l</td>\n",
       "    </tr>\n",
       "    <tr>\n",
       "      <th>8121</th>\n",
       "      <td>f</td>\n",
       "      <td>s</td>\n",
       "      <td>n</td>\n",
       "      <td>f</td>\n",
       "      <td>n</td>\n",
       "      <td>a</td>\n",
       "      <td>c</td>\n",
       "      <td>b</td>\n",
       "      <td>n</td>\n",
       "      <td>e</td>\n",
       "      <td>s</td>\n",
       "      <td>s</td>\n",
       "      <td>o</td>\n",
       "      <td>o</td>\n",
       "      <td>o</td>\n",
       "      <td>o</td>\n",
       "      <td>p</td>\n",
       "      <td>b</td>\n",
       "      <td>c</td>\n",
       "      <td>l</td>\n",
       "    </tr>\n",
       "    <tr>\n",
       "      <th>8122</th>\n",
       "      <td>k</td>\n",
       "      <td>y</td>\n",
       "      <td>n</td>\n",
       "      <td>f</td>\n",
       "      <td>y</td>\n",
       "      <td>f</td>\n",
       "      <td>c</td>\n",
       "      <td>n</td>\n",
       "      <td>b</td>\n",
       "      <td>t</td>\n",
       "      <td>s</td>\n",
       "      <td>k</td>\n",
       "      <td>w</td>\n",
       "      <td>w</td>\n",
       "      <td>w</td>\n",
       "      <td>o</td>\n",
       "      <td>e</td>\n",
       "      <td>w</td>\n",
       "      <td>v</td>\n",
       "      <td>l</td>\n",
       "    </tr>\n",
       "    <tr>\n",
       "      <th>8123</th>\n",
       "      <td>x</td>\n",
       "      <td>s</td>\n",
       "      <td>n</td>\n",
       "      <td>f</td>\n",
       "      <td>n</td>\n",
       "      <td>a</td>\n",
       "      <td>c</td>\n",
       "      <td>b</td>\n",
       "      <td>y</td>\n",
       "      <td>e</td>\n",
       "      <td>s</td>\n",
       "      <td>s</td>\n",
       "      <td>o</td>\n",
       "      <td>o</td>\n",
       "      <td>o</td>\n",
       "      <td>o</td>\n",
       "      <td>p</td>\n",
       "      <td>o</td>\n",
       "      <td>c</td>\n",
       "      <td>l</td>\n",
       "    </tr>\n",
       "  </tbody>\n",
       "</table>\n",
       "<p>8124 rows × 20 columns</p>\n",
       "</div>"
      ],
      "text/plain": [
       "     cap-shape cap-surface cap-color  ... spore-print-color population habitat\n",
       "0            x           s         n  ...                 k          s       u\n",
       "1            x           s         y  ...                 n          n       g\n",
       "2            b           s         w  ...                 n          n       m\n",
       "3            x           y         w  ...                 k          s       u\n",
       "4            x           s         g  ...                 n          a       g\n",
       "...        ...         ...       ...  ...               ...        ...     ...\n",
       "8119         k           s         n  ...                 b          c       l\n",
       "8120         x           s         n  ...                 b          v       l\n",
       "8121         f           s         n  ...                 b          c       l\n",
       "8122         k           y         n  ...                 w          v       l\n",
       "8123         x           s         n  ...                 o          c       l\n",
       "\n",
       "[8124 rows x 20 columns]"
      ]
     },
     "execution_count": 26,
     "metadata": {
      "tags": []
     },
     "output_type": "execute_result"
    }
   ],
   "source": [
    "data"
   ]
  },
  {
   "cell_type": "markdown",
   "metadata": {
    "colab_type": "text",
    "id": "vS7ulBeSj-do"
   },
   "source": [
    "# PCA\n",
    "PCA için datanın önce encode daha sonra scale edilmesi gerekmektedir."
   ]
  },
  {
   "cell_type": "code",
   "execution_count": 0,
   "metadata": {
    "colab": {},
    "colab_type": "code",
    "id": "SLb2Jl3ofcg6"
   },
   "outputs": [],
   "source": [
    "from sklearn.preprocessing import RobustScaler, StandardScaler\n",
    "from sklearn.preprocessing import LabelEncoder\n",
    "def encode(df):\n",
    "  df_copy = df.copy()\n",
    "  for col in df_copy.columns:\n",
    "        \n",
    "    labelencoder=LabelEncoder()\n",
    "    df_copy[col] = labelencoder.fit_transform(df_copy[col])\n",
    "    \n",
    "  return df_copy\n",
    "\n"
   ]
  },
  {
   "cell_type": "code",
   "execution_count": 0,
   "metadata": {
    "colab": {},
    "colab_type": "code",
    "id": "XP5G6LtNhET_"
   },
   "outputs": [],
   "source": [
    "encode_data=encode(data)\n",
    "pca_data=StandardScaler().fit_transform(encode_data)"
   ]
  },
  {
   "cell_type": "code",
   "execution_count": 37,
   "metadata": {
    "colab": {
     "base_uri": "https://localhost:8080/",
     "height": 235
    },
    "colab_type": "code",
    "executionInfo": {
     "elapsed": 706,
     "status": "ok",
     "timestamp": 1591227822811,
     "user": {
      "displayName": "Muhammet Furkan ÇANKAYA",
      "photoUrl": "https://lh3.googleusercontent.com/a-/AOh14GgKRfq4hsmkDYjw8lp5rHaifPZZVVa-0jLO3ZUl=s64",
      "userId": "16904689688251083638"
     },
     "user_tz": -180
    },
    "id": "mYcXHCj0jq50",
    "outputId": "ad9909cd-bf45-4f98-81cf-abff6f4f3928"
   },
   "outputs": [
    {
     "data": {
      "text/plain": [
       "array([[ 1.02971224,  0.14012794, -0.19824983, ..., -0.67019486,\n",
       "        -0.5143892 ,  2.03002809],\n",
       "       [ 1.02971224,  0.14012794,  1.76587407, ..., -0.2504706 ,\n",
       "        -1.31310821, -0.29572966],\n",
       "       [-2.08704716,  0.14012794,  1.37304929, ..., -0.2504706 ,\n",
       "        -1.31310821,  0.86714922],\n",
       "       ...,\n",
       "       [-0.8403434 ,  0.14012794, -0.19824983, ..., -1.50964337,\n",
       "        -2.11182722,  0.28570978],\n",
       "       [-0.21699152,  0.95327039, -0.19824983, ...,  1.42842641,\n",
       "         0.28432981,  0.28570978],\n",
       "       [ 1.02971224,  0.14012794, -0.19824983, ...,  0.16925365,\n",
       "        -2.11182722,  0.28570978]])"
      ]
     },
     "execution_count": 37,
     "metadata": {
      "tags": []
     },
     "output_type": "execute_result"
    }
   ],
   "source": [
    "pca_data"
   ]
  },
  {
   "cell_type": "markdown",
   "metadata": {
    "colab_type": "text",
    "id": "prOC8V4DkjGQ"
   },
   "source": [
    "datayı görselleştirmek için datayı 2 komponent haline getirmeliyiz."
   ]
  },
  {
   "cell_type": "code",
   "execution_count": 38,
   "metadata": {
    "colab": {
     "base_uri": "https://localhost:8080/",
     "height": 34
    },
    "colab_type": "code",
    "executionInfo": {
     "elapsed": 717,
     "status": "ok",
     "timestamp": 1591227929992,
     "user": {
      "displayName": "Muhammet Furkan ÇANKAYA",
      "photoUrl": "https://lh3.googleusercontent.com/a-/AOh14GgKRfq4hsmkDYjw8lp5rHaifPZZVVa-0jLO3ZUl=s64",
      "userId": "16904689688251083638"
     },
     "user_tz": -180
    },
    "id": "D7MTKjIKkZ1T",
    "outputId": "744a0924-cadd-4974-fc93-3002e4e6599d"
   },
   "outputs": [
    {
     "data": {
      "text/plain": [
       "array([3.70916666, 2.56821713])"
      ]
     },
     "execution_count": 38,
     "metadata": {
      "tags": []
     },
     "output_type": "execute_result"
    }
   ],
   "source": [
    "from sklearn.decomposition import PCA\n",
    "pca = PCA(n_components = 2)\n",
    "pca_trans = pca.fit_transform(pca_data)\n",
    "covariance=pca.get_covariance()\n",
    "explained_variance=pca.explained_variance_\n",
    "explained_variance"
   ]
  },
  {
   "cell_type": "code",
   "execution_count": 42,
   "metadata": {
    "colab": {
     "base_uri": "https://localhost:8080/",
     "height": 314
    },
    "colab_type": "code",
    "executionInfo": {
     "elapsed": 829,
     "status": "ok",
     "timestamp": 1591227979876,
     "user": {
      "displayName": "Muhammet Furkan ÇANKAYA",
      "photoUrl": "https://lh3.googleusercontent.com/a-/AOh14GgKRfq4hsmkDYjw8lp5rHaifPZZVVa-0jLO3ZUl=s64",
      "userId": "16904689688251083638"
     },
     "user_tz": -180
    },
    "id": "VVFsM_Xsk1J6",
    "outputId": "28f769cf-0e33-4a0d-a37a-aff6aaaca20a"
   },
   "outputs": [
    {
     "name": "stderr",
     "output_type": "stream",
     "text": [
      "No handles with labels found to put in legend.\n"
     ]
    },
    {
     "data": {
      "image/png": "[encoded data removed]",
      "text/plain": [
       "<Figure size 432x288 with 1 Axes>"
      ]
     },
     "metadata": {
      "tags": []
     },
     "output_type": "display_data"
    }
   ],
   "source": [
    "with plt.style.context('dark_background'):    \n",
    "    plt.bar(np.arange(len(explained_variance)), explained_variance, alpha=0.5, align='center')\n",
    "    plt.ylabel('Explained variance ratio')\n",
    "    plt.xlabel('Principal components')\n",
    "    plt.legend(loc='best')\n",
    "    plt.tight_layout()"
   ]
  },
  {
   "cell_type": "markdown",
   "metadata": {
    "colab_type": "text",
    "id": "-l5FMMrnlR04"
   },
   "source": [
    "# Outliers\n",
    "\n",
    "datada outliers bulunmamaktadır."
   ]
  },
  {
   "cell_type": "code",
   "execution_count": 43,
   "metadata": {
    "colab": {
     "base_uri": "https://localhost:8080/",
     "height": 265
    },
    "colab_type": "code",
    "executionInfo": {
     "elapsed": 746,
     "status": "ok",
     "timestamp": 1591228087894,
     "user": {
      "displayName": "Muhammet Furkan ÇANKAYA",
      "photoUrl": "https://lh3.googleusercontent.com/a-/AOh14GgKRfq4hsmkDYjw8lp5rHaifPZZVVa-0jLO3ZUl=s64",
      "userId": "16904689688251083638"
     },
     "user_tz": -180
    },
    "id": "uip3lybAk4kt",
    "outputId": "664561ef-3107-43fe-987d-06826c25c19b"
   },
   "outputs": [
    {
     "data": {
      "image/png": "[encoded data removed]",
      "text/plain": [
       "<Figure size 432x288 with 1 Axes>"
      ]
     },
     "metadata": {
      "needs_background": "light",
      "tags": []
     },
     "output_type": "display_data"
    }
   ],
   "source": [
    "plt.scatter(pca_trans[:,0],pca_trans[:,1])\n",
    "plt.show()"
   ]
  },
  {
   "cell_type": "markdown",
   "metadata": {
    "colab_type": "text",
    "id": "ntzH_IJglfnE"
   },
   "source": [
    "# K-Means\n",
    "\n",
    "K-means clustering için en iyi modeli bulmamız gerekmektedir. her örneğin centrioidi arasındaki mesafeyi ölçebiliriz (inertia)"
   ]
  },
  {
   "cell_type": "code",
   "execution_count": 0,
   "metadata": {
    "colab": {},
    "colab_type": "code",
    "id": "omQCrxO7lhkB"
   },
   "outputs": [],
   "source": [
    "from sklearn.cluster import KMeans\n",
    "from sklearn.metrics import silhouette_score\n",
    "kmeans_k = []\n",
    "inertias=[]\n",
    "silhouette_scores=[]\n",
    "rangemin=1\n",
    "rangemax=15\n",
    "for i in range(rangemin,rangemax):\n",
    "    kmeans = KMeans(n_clusters=i, init=\"k-means++\", n_init=50,\n",
    "                     algorithm=\"full\", max_iter=300, random_state=1)\n",
    "    kmeans.fit(encode_data)\n",
    "    Ypreds=kmeans.predict(encode_data)\n",
    "    inertias.append(kmeans.inertia_)\n",
    "    kmeans_k.append(kmeans)\n",
    "    if i>1:\n",
    "        silhouette_scores.append(silhouette_score(encode_data, Ypreds))"
   ]
  },
  {
   "cell_type": "code",
   "execution_count": 46,
   "metadata": {
    "colab": {
     "base_uri": "https://localhost:8080/",
     "height": 367
    },
    "colab_type": "code",
    "executionInfo": {
     "elapsed": 766,
     "status": "ok",
     "timestamp": 1591228525671,
     "user": {
      "displayName": "Muhammet Furkan ÇANKAYA",
      "photoUrl": "https://lh3.googleusercontent.com/a-/AOh14GgKRfq4hsmkDYjw8lp5rHaifPZZVVa-0jLO3ZUl=s64",
      "userId": "16904689688251083638"
     },
     "user_tz": -180
    },
    "id": "toQ7yOQ0lbs1",
    "outputId": "12c0d563-a897-423f-cba0-0a6e2de935e1"
   },
   "outputs": [
    {
     "data": {
      "text/plain": [
       "Text(0, 0.5, 'Total within-cluster sum of squares')"
      ]
     },
     "execution_count": 46,
     "metadata": {
      "tags": []
     },
     "output_type": "execute_result"
    },
    {
     "data": {
      "image/png": "[encoded data removed]",
      "text/plain": [
       "<Figure size 360x360 with 1 Axes>"
      ]
     },
     "metadata": {
      "needs_background": "light",
      "tags": []
     },
     "output_type": "display_data"
    }
   ],
   "source": [
    "plt.figure(figsize=(5, 5))\n",
    "plt.plot(range(rangemin, rangemax),inertias)\n",
    "plt.title('The Elbow Method')\n",
    "plt.xlabel('Number of Clusters')\n",
    "plt.ylabel('Total within-cluster sum of squares')"
   ]
  },
  {
   "cell_type": "code",
   "execution_count": 47,
   "metadata": {
    "colab": {
     "base_uri": "https://localhost:8080/",
     "height": 367
    },
    "colab_type": "code",
    "executionInfo": {
     "elapsed": 855,
     "status": "ok",
     "timestamp": 1591228550541,
     "user": {
      "displayName": "Muhammet Furkan ÇANKAYA",
      "photoUrl": "https://lh3.googleusercontent.com/a-/AOh14GgKRfq4hsmkDYjw8lp5rHaifPZZVVa-0jLO3ZUl=s64",
      "userId": "16904689688251083638"
     },
     "user_tz": -180
    },
    "id": "qNqi-EP9nGkO",
    "outputId": "46671173-cb57-441f-84b0-78bc42a2e21c"
   },
   "outputs": [
    {
     "data": {
      "text/plain": [
       "Text(0, 0.5, 'Average silhouette score')"
      ]
     },
     "execution_count": 47,
     "metadata": {
      "tags": []
     },
     "output_type": "execute_result"
    },
    {
     "data": {
      "image/png": "[encoded data removed]",
      "text/plain": [
       "<Figure size 360x360 with 1 Axes>"
      ]
     },
     "metadata": {
      "needs_background": "light",
      "tags": []
     },
     "output_type": "display_data"
    }
   ],
   "source": [
    "plt.figure(figsize=(5, 5))\n",
    "plt.plot(range(rangemin+1, rangemax), silhouette_scores)\n",
    "plt.title('silhouette analysis')\n",
    "plt.xlabel('Number of Clusters')\n",
    "plt.ylabel('Average silhouette score')"
   ]
  },
  {
   "cell_type": "code",
   "execution_count": 53,
   "metadata": {
    "colab": {
     "base_uri": "https://localhost:8080/",
     "height": 570
    },
    "colab_type": "code",
    "executionInfo": {
     "elapsed": 5235,
     "status": "ok",
     "timestamp": 1591228929351,
     "user": {
      "displayName": "Muhammet Furkan ÇANKAYA",
      "photoUrl": "https://lh3.googleusercontent.com/a-/AOh14GgKRfq4hsmkDYjw8lp5rHaifPZZVVa-0jLO3ZUl=s64",
      "userId": "16904689688251083638"
     },
     "user_tz": -180
    },
    "id": "-ZXlnfHynMnv",
    "outputId": "26186d63-1ba6-43ef-b742-fa225818b956"
   },
   "outputs": [
    {
     "data": {
      "image/png": "[encoded data removed]",
      "text/plain": [
       "<Figure size 792x648 with 4 Axes>"
      ]
     },
     "metadata": {
      "needs_background": "light",
      "tags": []
     },
     "output_type": "display_data"
    }
   ],
   "source": [
    "from sklearn.metrics import silhouette_samples\n",
    "from matplotlib.ticker import FixedLocator, FixedFormatter\n",
    "import matplotlib\n",
    "\n",
    "plt.figure(figsize=(11, 9))\n",
    "\n",
    "for k in (3, 4, 5, 6):\n",
    "    plt.subplot(2, 2, k - 2)\n",
    "    \n",
    "    y_pred = kmeans_k[k - 1].labels_\n",
    "    silhouette_coefficients = silhouette_samples(pca_trans, y_pred)\n",
    "\n",
    "    padding = len(pca_trans) // 30\n",
    "    pos = padding\n",
    "    ticks = []\n",
    "    for i in range(k):\n",
    "        coeffs = silhouette_coefficients[y_pred == i]\n",
    "        coeffs.sort()\n",
    "\n",
    "        color = matplotlib.cm.Spectral(i / k)\n",
    "        plt.fill_betweenx(np.arange(pos, pos + len(coeffs)), 0, coeffs,\n",
    "                          facecolor=color, edgecolor=color, alpha=0.7)\n",
    "        ticks.append(pos + len(coeffs) // 2)\n",
    "        pos += len(coeffs) + padding\n",
    "\n",
    "    plt.gca().yaxis.set_major_locator(FixedLocator(ticks))\n",
    "    plt.gca().yaxis.set_major_formatter(FixedFormatter(range(k)))\n",
    "    if k in (3, 5):\n",
    "        plt.ylabel(\"Cluster\")\n",
    "    \n",
    "    if k in (5, 6):\n",
    "        plt.gca().set_xticks([-0.1, 0, 0.2, 0.4, 0.6, 0.8, 1])\n",
    "        plt.xlabel(\"Silhouette Coefficient\")\n",
    "    else:\n",
    "        plt.tick_params(labelbottom=False)\n",
    "\n",
    "    plt.axvline(x=silhouette_scores[k - 2], color=\"red\", linestyle=\"--\")\n",
    "    plt.title(\"$k={}$\".format(k), fontsize=16)\n",
    "\n",
    "plt.show()"
   ]
  },
  {
   "cell_type": "markdown",
   "metadata": {
    "colab_type": "text",
    "id": "QZQro0WxouB6"
   },
   "source": [
    "k değeri için 6 nın olması daha iyi olabileceğine karar verdim"
   ]
  },
  {
   "cell_type": "code",
   "execution_count": 54,
   "metadata": {
    "colab": {
     "base_uri": "https://localhost:8080/",
     "height": 320
    },
    "colab_type": "code",
    "executionInfo": {
     "elapsed": 2494,
     "status": "ok",
     "timestamp": 1591229056051,
     "user": {
      "displayName": "Muhammet Furkan ÇANKAYA",
      "photoUrl": "https://lh3.googleusercontent.com/a-/AOh14GgKRfq4hsmkDYjw8lp5rHaifPZZVVa-0jLO3ZUl=s64",
      "userId": "16904689688251083638"
     },
     "user_tz": -180
    },
    "id": "tcLmRIi8nmMP",
    "outputId": "fbe935c7-05ce-4f4a-a6f1-8098e560eddd"
   },
   "outputs": [
    {
     "data": {
      "image/png": "[encoded data removed]",
      "text/plain": [
       "<Figure size 360x360 with 1 Axes>"
      ]
     },
     "metadata": {
      "needs_background": "light",
      "tags": []
     },
     "output_type": "display_data"
    }
   ],
   "source": [
    "from sklearn.cluster import KMeans\n",
    "kmeans = KMeans(n_clusters=6, init=\"k-means++\", n_init=50,\n",
    "                     algorithm=\"full\", max_iter=300, random_state=1)\n",
    "X_clustered = kmeans.fit_predict(pca_trans)\n",
    "\n",
    "\n",
    "LABEL_COLOR_MAP = {0 : 'g',\n",
    "                   1 : 'y',\n",
    "                   2: 'orange',\n",
    "                   3: 'b',\n",
    "                   4: \"red\",\n",
    "                   5: \"black\",\n",
    "                   6: \"purple\"\n",
    "                  }\n",
    "centroids = kmeans.cluster_centers_\n",
    "label_color = [LABEL_COLOR_MAP[l] for l in X_clustered]\n",
    "plt.figure(figsize = (5, 5))\n",
    "plt.scatter(pca_trans[:,0],pca_trans[:,1], c=label_color)\n",
    "plt.scatter(centroids[:, 0], centroids[:, 1], marker='*', s=300,\n",
    "            c='purple', label='centroid')\n",
    "plt.show()"
   ]
  },
  {
   "cell_type": "code",
   "execution_count": 55,
   "metadata": {
    "colab": {
     "base_uri": "https://localhost:8080/",
     "height": 118
    },
    "colab_type": "code",
    "executionInfo": {
     "elapsed": 735,
     "status": "ok",
     "timestamp": 1591229081144,
     "user": {
      "displayName": "Muhammet Furkan ÇANKAYA",
      "photoUrl": "https://lh3.googleusercontent.com/a-/AOh14GgKRfq4hsmkDYjw8lp5rHaifPZZVVa-0jLO3ZUl=s64",
      "userId": "16904689688251083638"
     },
     "user_tz": -180
    },
    "id": "OyTee2zMpHoz",
    "outputId": "a75ef604-5f61-47c3-8df0-aeea88d82c8c"
   },
   "outputs": [
    {
     "data": {
      "text/plain": [
       "array([[-1.92724524, -0.54482801],\n",
       "       [ 3.07804422, -0.5868656 ],\n",
       "       [-1.07413788,  2.77618719],\n",
       "       [ 1.60939028,  1.85066896],\n",
       "       [-1.31288147, -1.62359446],\n",
       "       [ 0.28861573, -0.08207649]])"
      ]
     },
     "execution_count": 55,
     "metadata": {
      "tags": []
     },
     "output_type": "execute_result"
    }
   ],
   "source": [
    "kmeans.cluster_centers_"
   ]
  },
  {
   "cell_type": "code",
   "execution_count": 56,
   "metadata": {
    "colab": {
     "base_uri": "https://localhost:8080/",
     "height": 34
    },
    "colab_type": "code",
    "executionInfo": {
     "elapsed": 711,
     "status": "ok",
     "timestamp": 1591229087373,
     "user": {
      "displayName": "Muhammet Furkan ÇANKAYA",
      "photoUrl": "https://lh3.googleusercontent.com/a-/AOh14GgKRfq4hsmkDYjw8lp5rHaifPZZVVa-0jLO3ZUl=s64",
      "userId": "16904689688251083638"
     },
     "user_tz": -180
    },
    "id": "71SneYQ1pOMV",
    "outputId": "a0d59370-ee85-4ecc-b5b1-6d31d1a3da80"
   },
   "outputs": [
    {
     "data": {
      "text/plain": [
       "4105.556194372333"
      ]
     },
     "execution_count": 56,
     "metadata": {
      "tags": []
     },
     "output_type": "execute_result"
    }
   ],
   "source": [
    "kmeans.inertia_"
   ]
  },
  {
   "cell_type": "markdown",
   "metadata": {
    "colab_type": "text",
    "id": "VukdzHPCpUhZ"
   },
   "source": [
    "# Agglomerative Clustering"
   ]
  },
  {
   "cell_type": "code",
   "execution_count": 57,
   "metadata": {
    "colab": {
     "base_uri": "https://localhost:8080/",
     "height": 320
    },
    "colab_type": "code",
    "executionInfo": {
     "elapsed": 2439,
     "status": "ok",
     "timestamp": 1591229136974,
     "user": {
      "displayName": "Muhammet Furkan ÇANKAYA",
      "photoUrl": "https://lh3.googleusercontent.com/a-/AOh14GgKRfq4hsmkDYjw8lp5rHaifPZZVVa-0jLO3ZUl=s64",
      "userId": "16904689688251083638"
     },
     "user_tz": -180
    },
    "id": "r8JRRPJjpPuC",
    "outputId": "9cc04cfd-3247-472c-d51f-5c3a5b2fe5ef"
   },
   "outputs": [
    {
     "data": {
      "image/png": "[encoded data removed]",
      "text/plain": [
       "<Figure size 360x360 with 1 Axes>"
      ]
     },
     "metadata": {
      "needs_background": "light",
      "tags": []
     },
     "output_type": "display_data"
    }
   ],
   "source": [
    "from sklearn.cluster import AgglomerativeClustering\n",
    "agg = AgglomerativeClustering(n_clusters=6, linkage=\"complete\")\n",
    "X_clustered = agg.fit_predict(pca_trans)\n",
    "\n",
    "LABEL_COLOR_MAP = {0 : 'g',\n",
    "                   1 : 'y',\n",
    "                   2: 'orange',\n",
    "                   3: 'b',\n",
    "                   4: \"red\",\n",
    "                   5: \"black\",\n",
    "                   6: \"purple\"\n",
    "                  }\n",
    "label_color = [LABEL_COLOR_MAP[l] for l in X_clustered]\n",
    "plt.figure(figsize = (5, 5))\n",
    "plt.scatter(pca_trans[:,0],pca_trans[:,1], c=label_color)\n",
    "plt.scatter(centroids[:, 0], centroids[:, 1], marker='*', s=300,\n",
    "            c='purple', label='centroid')\n",
    "plt.show()"
   ]
  },
  {
   "cell_type": "code",
   "execution_count": 58,
   "metadata": {
    "colab": {
     "base_uri": "https://localhost:8080/",
     "height": 393
    },
    "colab_type": "code",
    "executionInfo": {
     "elapsed": 144707,
     "status": "ok",
     "timestamp": 1591229361734,
     "user": {
      "displayName": "Muhammet Furkan ÇANKAYA",
      "photoUrl": "https://lh3.googleusercontent.com/a-/AOh14GgKRfq4hsmkDYjw8lp5rHaifPZZVVa-0jLO3ZUl=s64",
      "userId": "16904689688251083638"
     },
     "user_tz": -180
    },
    "id": "lvmQx1g5pbaJ",
    "outputId": "9a616718-3639-45d1-f4d4-202eb176ad55"
   },
   "outputs": [
    {
     "data": {
      "image/png": "[encoded data removed]",
      "text/plain": [
       "<Figure size 720x432 with 1 Axes>"
      ]
     },
     "metadata": {
      "needs_background": "light",
      "tags": []
     },
     "output_type": "display_data"
    }
   ],
   "source": [
    "import matplotlib.pyplot as plt  \n",
    "import pandas as pd  \n",
    "%matplotlib inline\n",
    "import numpy as np  \n",
    "\n",
    "import scipy.cluster.hierarchy as shc\n",
    "\n",
    "plt.figure(figsize=(10, 6))  \n",
    "plt.title(\"Dendograms\")  \n",
    "dend = shc.dendrogram(shc.linkage(pca_trans, method='complete')) "
   ]
  },
  {
   "cell_type": "code",
   "execution_count": 0,
   "metadata": {
    "colab": {},
    "colab_type": "code",
    "id": "iYQzPQoMpitz"
   },
   "outputs": [],
   "source": []
  }
 ],
 "metadata": {
  "colab": {
   "authorship_tag": "ABX9TyO2CdUum/S1pbUuZnV3U8sg",
   "collapsed_sections": [],
   "mount_file_id": "1fS1LjIhbrKFcFVXZIUqSVDYI19Pxd4L9",
   "name": "Final.ipynb",
   "provenance": []
  },
  "kernelspec": {
   "display_name": "Python 3",
   "language": "python",
   "name": "python3"
  },
  "language_info": {
   "codemirror_mode": {
    "name": "ipython",
    "version": 3
   },
   "file_extension": ".py",
   "mimetype": "text/x-python",
   "name": "python",
   "nbconvert_exporter": "python",
   "pygments_lexer": "ipython3",
   "version": "3.7.4"
  }
 },
 "nbformat": 4,
 "nbformat_minor": 1
}
